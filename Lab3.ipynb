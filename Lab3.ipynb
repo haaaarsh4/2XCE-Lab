{
 "cells": [
  {
   "cell_type": "code",
   "execution_count": 103,
   "metadata": {},
   "outputs": [],
   "source": [
    "class Graph:\n",
    "\n",
    "    # using hash map\n",
    "    def __init__(self, edges):\n",
    "        self.graph = {}\n",
    "        for x,y in edges:\n",
    "            if x not in self.graph.keys():\n",
    "                self.graph[x]=[]\n",
    "            self.graph[x].append(y)\n",
    "            \n",
    "            # making it undirected\n",
    "            if y not in self.graph.keys():\n",
    "                self.graph[y]=[]\n",
    "            self.graph[y].append(x)\n",
    "\n",
    "    def has_edge(self, src, dst):\n",
    "        value = True if src in self.graph[dst] or dst in self.graph[src] else False\n",
    "        return value\n",
    "    \n",
    "    # new function\n",
    "    def add_edge(self,src, dst):\n",
    "        if src not in self.graph.keys():\n",
    "            self.graph[src]=[]\n",
    "        self.graph[src].append(dst)\n",
    "\n",
    "    # get nodes connecteed to the edge\n",
    "    def get_edges(self, node):\n",
    "        return self.graph[node]\n",
    "\n",
    "    def get_graph_size(self,):\n",
    "        return len(self.graph)\n",
    "    \n",
    "    def get_nodes(self,):\n",
    "        return self.graph.keys()\n",
    "    \n",
    "    def get_graph(self,):\n",
    "        return self.graph\n",
    "    \n",
    "    # Part 1.3\n",
    "    def has_cycle(self,):\n",
    "        seen = set()\n",
    "        onpath = [False] * self.get_graph_size()\n",
    "        pathdepth = [0] * self.get_graph_size()\n",
    "        for node in self.graph.keys():\n",
    "            if node not in seen:\n",
    "                if has_cycle_each(self, node, seen, onpath, pathdepth, 0):\n",
    "                    return True\n",
    "        return False\n",
    "    \n",
    "    # Part 1.4\n",
    "    def is_connected(self, n1, n2):\n",
    "        seen = set()\n",
    "        id = [-1] * self.get_graph_size()\n",
    "        count = 0\n",
    "        for node in self.graph.keys():\n",
    "            if node not in seen:\n",
    "                dfs_count(self, node, seen, id, count)\n",
    "                count = count + 1\n",
    "        return id[n1] == id[n2]\n",
    "            "
   ]
  },
  {
   "cell_type": "code",
   "execution_count": 104,
   "metadata": {},
   "outputs": [
    {
     "name": "stdout",
     "output_type": "stream",
     "text": [
      "[0, 2, 3, 4, 5, 6]\n",
      "[0, 2, 3, 4, 5, 6]\n"
     ]
    }
   ],
   "source": [
    "# Part 1.1\n",
    "def BFS2(G, n1, n2):\n",
    "    stack = [[n1]]\n",
    "    graph = G.get_graph()\n",
    "    seen = set()\n",
    "    seen.add(n1)\n",
    "\n",
    "    while len(stack) > 0:\n",
    "        path = stack[0]\n",
    "        node = path[-1]\n",
    "        stack = stack[1:]\n",
    "        for nn in graph[node]:\n",
    "            if nn not in seen:\n",
    "                new_path = list(path)\n",
    "                new_path.append(nn)\n",
    "                stack.append(new_path)\n",
    "                seen.add(nn)\n",
    "                if nn == n2:\n",
    "                    return new_path\n",
    "\n",
    "g1 = Graph([[0,1],[1,2],[2,0],[3,2],[4,3],[5,4],[6,5]])\n",
    "print(BFS2(g1, 0, 6))\n",
    "\n",
    "def DFS2(G, n1, n2):\n",
    "    stack = [[n1]]\n",
    "    graph = G.get_graph()\n",
    "    seen = set()\n",
    "    seen.add(n1)\n",
    "\n",
    "    while len(stack) !=0:\n",
    "        path = stack.pop()\n",
    "        node = path[-1]\n",
    "        for nn in graph[node]:\n",
    "            if nn not in seen: \n",
    "                new_path = list(path)\n",
    "                new_path.append(nn)\n",
    "                stack.append(new_path)\n",
    "                seen.add(nn)\n",
    "                if nn == n2:\n",
    "                    return new_path\n",
    "print(DFS2(g1, 0, 6))                "
   ]
  },
  {
   "cell_type": "code",
   "execution_count": 105,
   "metadata": {},
   "outputs": [
    {
     "name": "stdout",
     "output_type": "stream",
     "text": [
      "{1: 0, 2: 0, 3: 2, 4: 3, 5: 4, 6: 5}\n",
      "{1: 0, 2: 0, 3: 2, 4: 3, 5: 4, 6: 5}\n"
     ]
    }
   ],
   "source": [
    "# Part 1.2\n",
    "def BFS3(G, node):\n",
    "    stack = [node]\n",
    "    graph = G.get_graph()\n",
    "    seen = set()\n",
    "    predecessor = {}\n",
    "    seen.add(node)\n",
    "\n",
    "    while len(stack) !=0:\n",
    "        n1 = stack[0]\n",
    "        stack = stack[1:]\n",
    "        for nn in graph[n1]:\n",
    "            if nn not in seen: \n",
    "                stack.append(nn)\n",
    "                seen.add(nn)\n",
    "                predecessor[nn] = n1\n",
    "    return predecessor\n",
    "print(BFS3(g1,0))\n",
    "def DFS3(G, node):\n",
    "    stack = [node]\n",
    "    graph = G.get_graph()\n",
    "    seen = set()\n",
    "    predecessor = {}\n",
    "    seen.add(node)\n",
    "\n",
    "    while len(stack) !=0:\n",
    "        n1 = stack.pop()\n",
    "        for nn in graph[n1]:\n",
    "            if nn not in seen: \n",
    "                stack.append(nn)\n",
    "                seen.add(nn)\n",
    "                predecessor[nn] = n1\n",
    "    return predecessor\n",
    "print(DFS3(g1,0))\n"
   ]
  },
  {
   "cell_type": "code",
   "execution_count": 106,
   "metadata": {},
   "outputs": [
    {
     "name": "stdout",
     "output_type": "stream",
     "text": [
      "True\n"
     ]
    }
   ],
   "source": [
    "# Part 1.3\n",
    "def has_cycle_each(G, node, seen, onpath, pathdepth, depth):\n",
    "    graph = G.get_graph()\n",
    "    depth = depth + 1\n",
    "    seen.add(node)\n",
    "    onpath[node] = True\n",
    "    pathdepth[node] = depth\n",
    "\n",
    "    for nn in graph[node]:\n",
    "        if onpath[nn]:\n",
    "            if pathdepth[nn] < depth - 1:\n",
    "                return True\n",
    "        if nn not in seen:\n",
    "            result = has_cycle_each(G, nn, seen, onpath, pathdepth, depth)\n",
    "            if result == True:\n",
    "                return True\n",
    "    onpath[node] = False\n",
    "    return False\n",
    "\n",
    "print(g1.has_cycle())"
   ]
  },
  {
   "cell_type": "code",
   "execution_count": 110,
   "metadata": {},
   "outputs": [
    {
     "name": "stdout",
     "output_type": "stream",
     "text": [
      "False\n"
     ]
    }
   ],
   "source": [
    "# Part 1.4\n",
    "def dfs_count(G, node, seen, id, count):\n",
    "    graph = G.get_graph()\n",
    "    seen.add(node)\n",
    "    id[node] = count\n",
    "    for nn in graph[node]:\n",
    "        if nn not in seen:\n",
    "            dfs_count(G,nn,seen,id,count)\n",
    "g2 = Graph([[0,1],[2,3]])\n",
    "print(g2.is_connected(0,3))\n",
    "    "
   ]
  }
 ],
 "metadata": {
  "kernelspec": {
   "display_name": "Python 3",
   "language": "python",
   "name": "python3"
  },
  "language_info": {
   "codemirror_mode": {
    "name": "ipython",
    "version": 3
   },
   "file_extension": ".py",
   "mimetype": "text/x-python",
   "name": "python",
   "nbconvert_exporter": "python",
   "pygments_lexer": "ipython3",
   "version": "3.10.7"
  }
 },
 "nbformat": 4,
 "nbformat_minor": 2
}
