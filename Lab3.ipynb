{
 "cells": [
  {
   "cell_type": "code",
   "execution_count": 42,
   "metadata": {},
   "outputs": [],
   "source": [
    "class Graph:\n",
    "\n",
    "    # using hash map\n",
    "    def __init__(self, edges):\n",
    "        self.graph = {}\n",
    "        for x,y in edges:\n",
    "            if x not in self.graph.keys():\n",
    "                self.graph[x]=[]\n",
    "            self.graph[x].append(y)\n",
    "            \n",
    "            # making it undirected\n",
    "            if y not in self.graph.keys():\n",
    "                self.graph[y]=[]\n",
    "            self.graph[y].append(x)\n",
    "\n",
    "    def has_edge(self, src, dst):\n",
    "        value = True if src in self.graph[dst] or dst in self.graph[src] else False\n",
    "        return value\n",
    "    \n",
    "    # new function\n",
    "    def add_edge(self,src, dst):\n",
    "        if src not in self.graph.keys():\n",
    "            self.graph[src]=[]\n",
    "        self.graph[src].append(dst)\n",
    "\n",
    "    # get nodes connecteed to the edge\n",
    "    def get_edges(self, node):\n",
    "        return self.graph[node]\n",
    "\n",
    "    def get_graph_size(self,):\n",
    "        return len(self.graph)\n",
    "    \n",
    "    def get_nodes(self,):\n",
    "        return self.graph.keys()\n",
    "    \n",
    "    def get_graph(self,):\n",
    "        return self.graph"
   ]
  },
  {
   "cell_type": "code",
   "execution_count": 43,
   "metadata": {},
   "outputs": [
    {
     "name": "stdout",
     "output_type": "stream",
     "text": [
      "[0, 2, 3, 4, 5, 6]\n",
      "[0, 2, 3, 4, 5, 6]\n"
     ]
    }
   ],
   "source": [
    "# Part1.1\n",
    "def BFS2(G, n1, n2):\n",
    "    stack = [[n1]]\n",
    "    graph = G.get_graph()\n",
    "    seen = set()\n",
    "    seen.add(n1)\n",
    "\n",
    "    while len(stack) > 0:\n",
    "        path = stack[0]\n",
    "        node = path[-1]\n",
    "        stack = stack[1:]\n",
    "        for nn in graph[node]:\n",
    "            if nn not in seen:\n",
    "                new_path = list(path)\n",
    "                new_path.append(nn)\n",
    "                stack.append(new_path)\n",
    "                seen.add(nn)\n",
    "                if nn == n2:\n",
    "                    return new_path\n",
    "\n",
    "#g1 = Graph([[0,1],[1,2],[2,0],[3,2],[4,3],[5,4],[6,5]])\n",
    "#print(BFS2(g1, 0, 6))\n",
    "\n",
    "def DFS2(G, n1, n2):\n",
    "    stack = [[n1]]\n",
    "    graph = G.get_graph()\n",
    "    seen = set()\n",
    "    seen.add(n1)\n",
    "\n",
    "    while len(stack) !=0:\n",
    "        path = stack.pop()\n",
    "        node = path[-1]\n",
    "        for nn in graph[node]:\n",
    "            if nn not in seen: \n",
    "                new_path = list(path)\n",
    "                new_path.append(nn)\n",
    "                stack.append(new_path)\n",
    "                seen.add(nn)\n",
    "                if nn == n2:\n",
    "                    return new_path\n",
    "#print(DFS2(g1, 0, 6))\n"
   ]
  },
  {
   "cell_type": "code",
   "execution_count": null,
   "metadata": {},
   "outputs": [],
   "source": []
  },
  {
   "cell_type": "code",
   "execution_count": null,
   "metadata": {},
   "outputs": [],
   "source": []
  },
  {
   "cell_type": "code",
   "execution_count": null,
   "metadata": {},
   "outputs": [],
   "source": [
    "\n",
    "\n",
    "    "
   ]
  }
 ],
 "metadata": {
  "kernelspec": {
   "display_name": "Python 3",
   "language": "python",
   "name": "python3"
  },
  "language_info": {
   "codemirror_mode": {
    "name": "ipython",
    "version": 3
   },
   "file_extension": ".py",
   "mimetype": "text/x-python",
   "name": "python",
   "nbconvert_exporter": "python",
   "pygments_lexer": "ipython3",
   "version": "3.10.7"
  }
 },
 "nbformat": 4,
 "nbformat_minor": 2
}
