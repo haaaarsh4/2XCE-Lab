{
 "cells": [
  {
   "cell_type": "code",
   "execution_count": 184,
   "metadata": {},
   "outputs": [],
   "source": [
    "import random\n",
    "import timeit \n",
    "import matplotlib.pyplot as plt\n",
    "import numpy as np\n",
    "import math"
   ]
  },
  {
   "cell_type": "code",
   "execution_count": 185,
   "metadata": {},
   "outputs": [],
   "source": [
    "class Graph:\n",
    "\n",
    "    # using hash map\n",
    "    def __init__(self, edges):\n",
    "        self.graph = {}\n",
    "        for x,y in edges:\n",
    "            if x not in self.graph.keys():\n",
    "                self.graph[x]=[]\n",
    "            self.graph[x].append(y)\n",
    "            # undirected\n",
    "            if y not in self.graph.keys():\n",
    "                self.graph[y]=[]\n",
    "            self.graph[y].append(x)\n",
    "\n",
    "    def has_edge(self, src, dst):\n",
    "        value = True if src in self.graph[dst] or dst in self.graph[src] else False\n",
    "        return value\n",
    "    \n",
    "    def add_edge(self,node1, node2):\n",
    "        if node1 not in self.graph.keys():\n",
    "            self.graph[node1]=[]\n",
    "        self.graph[node1].append(node2)\n",
    "        if node2 not in self.graph.keys():\n",
    "            self.graph[node2]=[]\n",
    "        self.graph[node2].append(node1)\n",
    "\n",
    "    def get_edges(self, node):\n",
    "        return self.graph[node]\n",
    "\n",
    "    def get_graph_size(self,):\n",
    "        return len(self.graph)\n",
    "    \n",
    "    def get_nodes(self,):\n",
    "        return self.graph.keys()\n",
    "    \n",
    "    def get_graph(self,):\n",
    "        return self.graph\n",
    "    \n",
    "    # Part 1.3\n",
    "    def has_cycle(self,):\n",
    "        seen = set()\n",
    "        onpath = [False] * self.get_graph_size()\n",
    "        pathdepth = [0] * self.get_graph_size()\n",
    "        for node in self.graph.keys():\n",
    "            if node not in seen:\n",
    "                if has_cycle_each(self, node, seen, onpath, pathdepth, 0):\n",
    "                    return True\n",
    "        return False\n",
    "    \n",
    "    # Part 1.4\n",
    "    def is_connected(self,):\n",
    "        seen = set()\n",
    "        id = [-1] * self.get_graph_size()\n",
    "        count = 0\n",
    "        for node in self.graph.keys():\n",
    "            if node not in seen:\n",
    "                dfs_count(self, node, seen, id, count)\n",
    "                count = count + 1\n",
    "        for i in self.graph.keys():\n",
    "            if id[i] != 0:\n",
    "                return False\n",
    "        return True\n",
    "    \n",
    "    # Part 1.5\n",
    "    def add_node(self, node):\n",
    "        if node not in self.graph.keys():\n",
    "            self.graph[node] = []\n",
    "            "
   ]
  },
  {
   "cell_type": "code",
   "execution_count": 186,
   "metadata": {},
   "outputs": [
    {
     "name": "stdout",
     "output_type": "stream",
     "text": [
      "[0, 2, 3, 4, 5, 6]\n",
      "[0, 2, 3, 4, 5, 6]\n"
     ]
    }
   ],
   "source": [
    "# Part 1.1\n",
    "def BFS2(G, n1, n2):\n",
    "    stack = [[n1]]\n",
    "    graph = G.get_graph()\n",
    "    seen = set()\n",
    "    seen.add(n1)\n",
    "\n",
    "    while len(stack) > 0:\n",
    "        path = stack[0]\n",
    "        node = path[-1]\n",
    "        stack = stack[1:]\n",
    "        for nn in graph[node]:\n",
    "            if nn not in seen:\n",
    "                new_path = list(path)\n",
    "                new_path.append(nn)\n",
    "                stack.append(new_path)\n",
    "                seen.add(nn)\n",
    "                if nn == n2:\n",
    "                    return new_path\n",
    "\n",
    "g1 = Graph([[0,1],[1,2],[2,0],[3,2],[4,3],[5,4],[6,5]])\n",
    "print(BFS2(g1, 0, 6))\n",
    "\n",
    "def DFS2(G, n1, n2):\n",
    "    stack = [[n1]]\n",
    "    graph = G.get_graph()\n",
    "    seen = set()\n",
    "    seen.add(n1)\n",
    "\n",
    "    while len(stack) !=0:\n",
    "        path = stack.pop()\n",
    "        node = path[-1]\n",
    "        for nn in graph[node]:\n",
    "            if nn not in seen: \n",
    "                new_path = list(path)\n",
    "                new_path.append(nn)\n",
    "                stack.append(new_path)\n",
    "                seen.add(nn)\n",
    "                if nn == n2:\n",
    "                    return new_path\n",
    "print(DFS2(g1, 0, 6))                "
   ]
  },
  {
   "cell_type": "code",
   "execution_count": 187,
   "metadata": {},
   "outputs": [
    {
     "name": "stdout",
     "output_type": "stream",
     "text": [
      "{1: 0, 2: 0, 3: 2, 4: 3, 5: 4, 6: 5}\n",
      "{1: 0, 2: 0, 3: 2, 4: 3, 5: 4, 6: 5}\n"
     ]
    }
   ],
   "source": [
    "# Part 1.2\n",
    "def BFS3(G, node):\n",
    "    stack = [node]\n",
    "    graph = G.get_graph()\n",
    "    seen = set()\n",
    "    predecessor = {}\n",
    "    seen.add(node)\n",
    "\n",
    "    while len(stack) !=0:\n",
    "        n1 = stack[0]\n",
    "        stack = stack[1:]\n",
    "        for nn in graph[n1]:\n",
    "            if nn not in seen: \n",
    "                stack.append(nn)\n",
    "                seen.add(nn)\n",
    "                predecessor[nn] = n1\n",
    "    return predecessor\n",
    "print(BFS3(g1,0))\n",
    "def DFS3(G, node):\n",
    "    stack = [node]\n",
    "    graph = G.get_graph()\n",
    "    seen = set()\n",
    "    predecessor = {}\n",
    "    seen.add(node)\n",
    "\n",
    "    while len(stack) !=0:\n",
    "        n1 = stack.pop()\n",
    "        for nn in graph[n1]:\n",
    "            if nn not in seen: \n",
    "                stack.append(nn)\n",
    "                seen.add(nn)\n",
    "                predecessor[nn] = n1\n",
    "    return predecessor\n",
    "print(DFS3(g1,0))\n"
   ]
  },
  {
   "cell_type": "code",
   "execution_count": 188,
   "metadata": {},
   "outputs": [
    {
     "name": "stdout",
     "output_type": "stream",
     "text": [
      "True\n"
     ]
    }
   ],
   "source": [
    "# Part 1.3\n",
    "def has_cycle_each(G, node, seen, onpath, pathdepth, depth):\n",
    "    graph = G.get_graph()\n",
    "    depth = depth + 1\n",
    "    seen.add(node)\n",
    "    onpath[node] = True\n",
    "    pathdepth[node] = depth\n",
    "\n",
    "    for nn in graph[node]:\n",
    "        if onpath[nn]:\n",
    "            if pathdepth[nn] < depth - 1:\n",
    "                return True\n",
    "        if nn not in seen:\n",
    "            result = has_cycle_each(G, nn, seen, onpath, pathdepth, depth)\n",
    "            if result == True:\n",
    "                return True\n",
    "    onpath[node] = False\n",
    "    return False\n",
    "\n",
    "print(g1.has_cycle())"
   ]
  },
  {
   "cell_type": "code",
   "execution_count": 195,
   "metadata": {},
   "outputs": [
    {
     "name": "stdout",
     "output_type": "stream",
     "text": [
      "True\n"
     ]
    }
   ],
   "source": [
    "# Part 1.4\n",
    "def dfs_count(G, node, seen, id, count):\n",
    "    graph = G.get_graph()\n",
    "    seen.add(node)\n",
    "    id[node] = count\n",
    "    for nn in graph[node]:\n",
    "        if nn not in seen:\n",
    "            dfs_count(G,nn,seen,id,count)\n",
    "g2 = Graph([[0,1],[1,2],[2,3]])\n",
    "print(g2.is_connected())\n",
    "    "
   ]
  },
  {
   "cell_type": "code",
   "execution_count": 190,
   "metadata": {},
   "outputs": [
    {
     "name": "stdout",
     "output_type": "stream",
     "text": [
      "dict_keys([0, 1, 2, 3, 4, 5, 6, 7, 8, 9])\n",
      "{0: [3, 7], 1: [], 2: [9], 3: [0], 4: [], 5: [9], 6: [8], 7: [0], 8: [6], 9: [2, 5]}\n"
     ]
    }
   ],
   "source": [
    "# Part 1.5\n",
    "def create_random_graph(n,e):\n",
    "    g = Graph([])\n",
    "    graph = g.get_graph()\n",
    "    for i in range(n):\n",
    "        g.add_node(i)\n",
    "    for _ in range(e):\n",
    "        n1 = random.randint(0,n-1)\n",
    "        n2 = random.randint(0,n-1)\n",
    "        while n1 == n2 or n2 in graph[n1]:  # n1 and n2 are different\n",
    "            n1 = random.randint(0,n-1)\n",
    "            n2 = random.randint(0,n-1)\n",
    "        g.add_edge(n1,n2)\n",
    "    return g\n",
    "\n",
    "g = create_random_graph(10,5)\n",
    "print(g.get_nodes())\n",
    "print(g.get_graph())"
   ]
  },
  {
   "cell_type": "code",
   "execution_count": 191,
   "metadata": {},
   "outputs": [
    {
     "data": {
      "image/png": "[encoded data removed]",
      "text/plain": [
       "<Figure size 640x480 with 1 Axes>"
      ]
     },
     "metadata": {},
     "output_type": "display_data"
    }
   ],
   "source": [
    "runs = 1000\n",
    "cycle_count = 0\n",
    "for _ in range(runs):\n",
    "    my_graph = create_random_graph(100,70)\n",
    "    if my_graph.has_cycle():\n",
    "        cycle_count += 1\n",
    "plt.pie([cycle_count, runs - cycle_count], labels=[\"Has A Cycle\", \"No Cycle\"], autopct='%1.1f%%', startangle=140)\n",
    "plt.axis('equal')\n",
    "plt.title('The probability of a graph having a cycle')\n",
    "plt.show()"
   ]
  },
  {
   "cell_type": "code",
   "execution_count": 201,
   "metadata": {},
   "outputs": [
    {
     "data": {
      "image/png": "[encoded data removed]",
      "text/plain": [
       "<Figure size 640x480 with 1 Axes>"
      ]
     },
     "metadata": {},
     "output_type": "display_data"
    }
   ],
   "source": [
    "runs = 1000\n",
    "count = 0\n",
    "for _ in range(runs):\n",
    "    my_graph = create_random_graph(100,200)\n",
    "    if my_graph.is_connected():\n",
    "        count += 1\n",
    "plt.pie([count, runs - count], labels=[\"Connected\", \"Not Connected\"], autopct='%1.1f%%', startangle=140)\n",
    "plt.axis('equal')\n",
    "plt.title('The probability of a graph that is connected')\n",
    "plt.show()"
   ]
  }
 ],
 "metadata": {
  "kernelspec": {
   "display_name": "Python 3",
   "language": "python",
   "name": "python3"
  },
  "language_info": {
   "codemirror_mode": {
    "name": "ipython",
    "version": 3
   },
   "file_extension": ".py",
   "mimetype": "text/x-python",
   "name": "python",
   "nbconvert_exporter": "python",
   "pygments_lexer": "ipython3",
   "version": "3.10.7"
  }
 },
 "nbformat": 4,
 "nbformat_minor": 2
}
